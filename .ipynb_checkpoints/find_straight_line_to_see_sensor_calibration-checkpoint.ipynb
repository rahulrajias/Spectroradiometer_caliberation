{
 "cells": [
  {
   "cell_type": "code",
   "execution_count": 8,
   "metadata": {},
   "outputs": [],
   "source": [
    "import os\n",
    "import pandas as pd\n",
    "import numpy as np\n",
    "import re\n",
    "import matplotlib.pyplot as plt\n",
    "import seaborn as sns\n",
    "from string import ascii_letters\n",
    "import math \n",
    "import random\n",
    "import pickle\n",
    "import codecs\n",
    "import random\n",
    "# %matplotlib inline"
   ]
  },
  {
   "cell_type": "code",
   "execution_count": 9,
   "metadata": {},
   "outputs": [
    {
     "name": "stdout",
     "output_type": "stream",
     "text": [
      "/home/alone/Documents/Spectroradiometer_caliberation/find_straight_line/dirty_part\n",
      "/home/alone/Documents/Spectroradiometer_caliberation/find_straight_line/pure_part\n",
      "/home/alone/Documents/Spectroradiometer_caliberation/find_straight_line/not_ploished_plywood\n",
      "/home/alone/Documents/Spectroradiometer_caliberation/find_straight_line/shiny_polished_plywood\n",
      "/home/alone/Documents/Spectroradiometer_caliberation/find_straight_line/slight_dirty\n",
      "['dirty_part', 'pure_part', 'not_ploished_plywood', 'shiny_polished_plywood', 'slight_dirty']\n"
     ]
    },
    {
     "name": "stderr",
     "output_type": "stream",
     "text": [
      "/home/alone/.local/lib/python3.5/site-packages/ipykernel_launcher.py:25: FutureWarning: set_value is deprecated and will be removed in a future release. Please use .at[] or .iat[] accessors instead\n"
     ]
    },
    {
     "name": "stdout",
     "output_type": "stream",
     "text": [
      "All_data_dict is a dictionary where key is folder name and stored values are dataFrame consists of reflectance values of that folder \n"
     ]
    }
   ],
   "source": [
    "folder_folders = os.walk(\"/home/alone/Documents/Spectroradiometer_caliberation/find_straight_line\")\n",
    "folder_list = []\n",
    "folder_names = []\n",
    "for root, dirs, files in os.walk(\"/home/alone/Documents/Spectroradiometer_caliberation/find_straight_line\", topdown=False):\n",
    "    for name in dirs:\n",
    "        if not os.path.isfile(os.path.join(root, name)):\n",
    "            folder_list.append(os.path.join(root, name))\n",
    "            folder_names.append(name)\n",
    "            print (os.path.join(root, name))\n",
    "# print(folder_list)\n",
    "print(folder_names)\n",
    "\n",
    "all_data_dict = {}\n",
    "for k in range(len(folder_list)):\n",
    "    all_data = pd.DataFrame(columns=[\"Lambda\"])\n",
    "    file_list = os.listdir(folder_list[k])\n",
    "    for j in range(len(file_list)):\n",
    "        raw_data = open(os.path.join(folder_list[k],file_list[j]), \"r\")\n",
    "        f = raw_data.readlines()\n",
    "        usable_part = f[78:459]\n",
    "        usable_part = [i.split(\"  \") for i in usable_part]\n",
    "        data = pd.DataFrame(usable_part)\n",
    "        for index,rows in data.iterrows():\n",
    "            re_pattern = r\"(.*)\\n\"\n",
    "            data.set_value(index, 2, re.search(re_pattern, rows[2]).group(1))\n",
    "        data.columns=[\"Lambda\",\"target\",\"ref\"]\n",
    "        data.ref=pd.to_numeric(data.ref)\n",
    "        data.target=pd.to_numeric(data.target)\n",
    "        Reflectance=(data.target)/(data.ref)\n",
    "        data=data.drop(\"ref\",1)\n",
    "        data=data.drop(\"target\",1)\n",
    "        if all_data[\"Lambda\"].empty:\n",
    "            all_data[\"Lambda\"] = data[\"Lambda\"]\n",
    "        all_data[\"R\"+str(j+1)]=Reflectance\n",
    "    all_data_dict [folder_names[k]] = all_data\n",
    "    \n",
    "print(\"All_data_dict is a dictionary where key is folder name and stored values are dataFrame consists of reflectance values of that folder \")"
   ]
  },
  {
   "cell_type": "code",
   "execution_count": 71,
   "metadata": {},
   "outputs": [
    {
     "name": "stdout",
     "output_type": "stream",
     "text": [
      "     Lambda        R1        R2        R3\n",
      "376  992.69  1.032258  1.046371  0.991935\n",
      "377  994.18  1.012195  1.046748  0.987805\n",
      "378  995.67  1.041841  1.046025  0.991632\n",
      "379  997.16  1.060606  1.069264  1.023810\n",
      "380  998.65  0.997877  1.021231  0.951168\n"
     ]
    },
    {
     "data": {
      "text/plain": [
       "[<matplotlib.lines.Line2D at 0x7fe1d84342b0>]"
      ]
     },
     "execution_count": 71,
     "metadata": {},
     "output_type": "execute_result"
    },
    {
     "data": {
      "image/png": "[encoded data removed]",
      "text/plain": [
       "<matplotlib.figure.Figure at 0x7fe1d84702e8>"
      ]
     },
     "metadata": {},
     "output_type": "display_data"
    }
   ],
   "source": [
    "pure=all_data_dict[\"pure_part\"]\n",
    "print(pure.tail())\n",
    "plt.plot(pure.Lambda,pure.R1,color='r',linewidth=1)\n",
    "plt.plot(pure.Lambda,pure.R2,color='g',linewidth=1)\n",
    "plt.plot(pure.Lambda,pure.R3,color='b',linewidth=1)\n",
    "\n",
    "#plt.xticks(range(400, 1000, 50))\n",
    "# ax=plt.gca()\n",
    "# print(ax)\n",
    "# ax.set_ylim([0,1.2])\n",
    "# ax.set_xticks(pure.Lambda, minor=True)\n",
    "# ax.set_xlim([400.35,998.65])\n",
    "# ax.set_xticks(np.arange(min(pure.Lambda),))\n",
    "# plt.tight_layout()\n",
    "# plt.show()"
   ]
  },
  {
   "cell_type": "code",
   "execution_count": null,
   "metadata": {},
   "outputs": [],
   "source": [
    "dirt=all_data_dict[\"dirty_part\"]\n",
    "plt.plot(dirt.Lambda)"
   ]
  }
 ],
 "metadata": {
  "kernelspec": {
   "display_name": "Python 3",
   "language": "python",
   "name": "python3"
  },
  "language_info": {
   "codemirror_mode": {
    "name": "ipython",
    "version": 3
   },
   "file_extension": ".py",
   "mimetype": "text/x-python",
   "name": "python",
   "nbconvert_exporter": "python",
   "pygments_lexer": "ipython3",
   "version": "3.5.2"
  }
 },
 "nbformat": 4,
 "nbformat_minor": 2
}
